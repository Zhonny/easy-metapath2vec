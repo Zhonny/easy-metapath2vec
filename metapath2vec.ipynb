{
 "cells": [
  {
   "cell_type": "code",
   "execution_count": 1,
   "id": "77e7fb02",
   "metadata": {},
   "outputs": [],
   "source": [
    "from stellargraph import datasets\n",
    "from stellargraph import IndexedArray\n",
    "from stellargraph import StellarGraph\n",
    "import pandas as pd"
   ]
  },
  {
   "cell_type": "code",
   "execution_count": 2,
   "id": "65ba9732",
   "metadata": {},
   "outputs": [],
   "source": [
    "#命名可以没有顺序\n",
    "author = IndexedArray(index=[\"a1\",\"a2\",\"a3\",\"a4\"])\n",
    "paper = IndexedArray(index=[\"p1\", \"p2\", \"p3\"])\n",
    "venue = IndexedArray(index=[\"v1\", \"v2\", \"v3\"])"
   ]
  },
  {
   "cell_type": "code",
   "execution_count": 4,
   "id": "bcaee8a8",
   "metadata": {},
   "outputs": [],
   "source": [
    "edges_AP = pd.DataFrame(\n",
    "    {\"source\": [\"a1\",\"a2\",\"a3\",\"a4\"], \"target\": [\"p1\", \"p2\", \"p3\", \"p3\"]},index=[0,1,2,3]\n",
    ")\n",
    "edges_PV = pd.DataFrame(\n",
    "    {\"source\": [\"p1\", \"p2\", \"p3\"], \"target\": [\"v1\", \"v2\", \"v3\"]},index=[4,5,6]\n",
    ")\n",
    "#index的用处是为每一条边给一个唯一id"
   ]
  },
  {
   "cell_type": "code",
   "execution_count": 5,
   "id": "f87f579f",
   "metadata": {},
   "outputs": [
    {
     "name": "stdout",
     "output_type": "stream",
     "text": [
      "StellarGraph: Undirected multigraph\n",
      " Nodes: 10, Edges: 7\n",
      "\n",
      " Node types:\n",
      "  author: [4]\n",
      "    Features: none\n",
      "    Edge types: author-AP->paper\n",
      "  venue: [3]\n",
      "    Features: none\n",
      "    Edge types: venue-PV->paper\n",
      "  paper: [3]\n",
      "    Features: none\n",
      "    Edge types: paper-AP->author, paper-PV->venue\n",
      "\n",
      " Edge types:\n",
      "    author-AP->paper: [4]\n",
      "        Weights: all 1 (default)\n",
      "        Features: none\n",
      "    paper-PV->venue: [3]\n",
      "        Weights: all 1 (default)\n",
      "        Features: none\n"
     ]
    }
   ],
   "source": [
    "Graph = StellarGraph(nodes={\"author\": author, \"paper\": paper,\"venue\": venue},\n",
    "                     edges={\"AP\":edges_AP, \"PV\":edges_PV})\n",
    "print(Graph.info())"
   ]
  },
  {
   "cell_type": "code",
   "execution_count": null,
   "id": "d29cfdb1",
   "metadata": {},
   "outputs": [],
   "source": [
    "#graph save\n",
    "\n",
    "\n",
    "#graph load"
   ]
  },
  {
   "cell_type": "markdown",
   "id": "9c083320",
   "metadata": {},
   "source": [
    "# Metapath2Vec"
   ]
  },
  {
   "cell_type": "code",
   "execution_count": 6,
   "id": "3da326f8",
   "metadata": {},
   "outputs": [],
   "source": [
    "walk_length = 100  # maximum length of a random walk to use throughout this notebook\n",
    "\n",
    "# specify the metapath schemas as a list of lists of node types.\n",
    "metapaths = [\n",
    "    [\"author\", \"paper\", \"author\"],\n",
    "    [\"author\", \"paper\", \"paper\", \"author\"],\n",
    "    [\"author\", \"paper\", \"venue\",\"paper\", \"author\"],\n",
    "]"
   ]
  },
  {
   "cell_type": "code",
   "execution_count": 8,
   "id": "474049d9",
   "metadata": {},
   "outputs": [
    {
     "name": "stdout",
     "output_type": "stream",
     "text": [
      "Number of random walks: 12\n"
     ]
    }
   ],
   "source": [
    "from stellargraph.data import UniformRandomMetaPathWalk\n",
    "\n",
    "# Create the random walker\n",
    "rw = UniformRandomMetaPathWalk(Graph)\n",
    "\n",
    "walks = rw.run(\n",
    "    nodes=list(Graph.nodes()),  # root nodes\n",
    "    length=walk_length,  # maximum length of a random walk\n",
    "    n=1,  # number of random walks per root node\n",
    "    metapaths=metapaths,  # the metapaths\n",
    ")\n",
    "\n",
    "print(\"Number of random walks: {}\".format(len(walks)))"
   ]
  },
  {
   "cell_type": "code",
   "execution_count": 14,
   "id": "5f9e60a0",
   "metadata": {},
   "outputs": [],
   "source": [
    "from gensim.models import Word2Vec\n",
    "\n",
    "model = Word2Vec(walks, vector_size=64, window=5, min_count=0, sg=1, workers=2, epochs=100)\n",
    "model.save('word2vec.model')\n",
    "#model = Word2Vec.load('word2vec.model')"
   ]
  },
  {
   "cell_type": "code",
   "execution_count": 15,
   "id": "96b5261f",
   "metadata": {},
   "outputs": [
    {
     "data": {
      "text/plain": [
       "(10, 64)"
      ]
     },
     "execution_count": 15,
     "metadata": {},
     "output_type": "execute_result"
    }
   ],
   "source": [
    "vectors = model.wv.vectors #获取模型中全部的词向量\n",
    "vectors.shape"
   ]
  },
  {
   "cell_type": "code",
   "execution_count": 18,
   "id": "361001e6",
   "metadata": {},
   "outputs": [
    {
     "data": {
      "text/plain": [
       "['p3', 'p2', 'p1', 'a4', 'a2', 'a1', 'a3', 'v3', 'v2', 'v1']"
      ]
     },
     "execution_count": 18,
     "metadata": {},
     "output_type": "execute_result"
    }
   ],
   "source": [
    "words = model.wv.index_to_key\n",
    "words"
   ]
  },
  {
   "cell_type": "code",
   "execution_count": 21,
   "id": "8b0f49b7",
   "metadata": {},
   "outputs": [
    {
     "data": {
      "text/plain": [
       "array([-0.033222  ,  0.18314068,  0.821272  ,  0.3406464 , -0.42332375,\n",
       "       -0.07839388,  0.416241  ,  0.1398861 ,  0.39403313,  0.14519005,\n",
       "        0.21091036,  0.16512315, -0.09368457, -0.3365461 , -0.02940113,\n",
       "        0.5316532 ,  0.2649583 , -0.10001535, -0.17108014,  0.43290895,\n",
       "        0.16123572,  0.19841623,  0.5654438 , -0.50825125,  0.41142783,\n",
       "        0.21390761,  0.14099912,  0.15759242,  0.13340913,  0.1553423 ,\n",
       "        0.25670564,  0.29594412, -0.8045267 , -0.331459  , -0.38763082,\n",
       "       -0.2227925 ,  0.1884977 ,  0.75423473,  0.40181893, -0.4412597 ,\n",
       "        0.29801166,  0.524854  ,  0.25755912, -0.4073466 ,  0.4461672 ,\n",
       "       -0.10353985,  0.03999948,  0.22882785, -0.36125726, -0.5556171 ,\n",
       "        0.40251294, -0.42223337, -0.4195769 ,  0.5935092 ,  0.05658446,\n",
       "       -0.37609524, -0.24926893,  0.38941234, -0.4057807 , -0.19100171,\n",
       "       -0.31339303,  0.08781558,  0.27605128, -0.05178364], dtype=float32)"
      ]
     },
     "execution_count": 21,
     "metadata": {},
     "output_type": "execute_result"
    }
   ],
   "source": [
    "vecs=model.wv['a1']\n",
    "vecs"
   ]
  },
  {
   "cell_type": "code",
   "execution_count": null,
   "id": "e5e6d249",
   "metadata": {},
   "outputs": [],
   "source": []
  }
 ],
 "metadata": {
  "kernelspec": {
   "display_name": "stellargraph_2",
   "language": "python",
   "name": "stellargraph_2"
  },
  "language_info": {
   "codemirror_mode": {
    "name": "ipython",
    "version": 3
   },
   "file_extension": ".py",
   "mimetype": "text/x-python",
   "name": "python",
   "nbconvert_exporter": "python",
   "pygments_lexer": "ipython3",
   "version": "3.8.0"
  }
 },
 "nbformat": 4,
 "nbformat_minor": 5
}
